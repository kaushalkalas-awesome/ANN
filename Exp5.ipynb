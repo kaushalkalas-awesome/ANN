{
  "nbformat": 4,
  "nbformat_minor": 0,
  "metadata": {
    "colab": {
      "provenance": [],
      "authorship_tag": "ABX9TyPk3bUE7LshZmrs8PBoJQS+",
      "include_colab_link": true
    },
    "kernelspec": {
      "name": "python3",
      "display_name": "Python 3"
    },
    "language_info": {
      "name": "python"
    }
  },
  "cells": [
    {
      "cell_type": "markdown",
      "metadata": {
        "id": "view-in-github",
        "colab_type": "text"
      },
      "source": [
        "<a href=\"https://colab.research.google.com/github/kaushalkalas-awesome/ANN/blob/main/Exp5.ipynb\" target=\"_parent\"><img src=\"https://colab.research.google.com/assets/colab-badge.svg\" alt=\"Open In Colab\"/></a>"
      ]
    },
    {
      "cell_type": "code",
      "execution_count": 21,
      "metadata": {
        "colab": {
          "base_uri": "https://localhost:8080/"
        },
        "id": "X1TU8WJVWckX",
        "outputId": "c32d4b4c-0ebe-4a57-a065-b239f27891f0"
      },
      "outputs": [
        {
          "output_type": "stream",
          "name": "stdout",
          "text": [
            "Layer Dimensions: [2, 2, 1]\n",
            "Total No. of layers in NN 3\n",
            "Layer Dimensions: [2, 2, 1]\n",
            "Total No. of layers in NN 3\n",
            "\n",
            " {'W1': array([[0.1, 0.1],\n",
            "       [0.1, 0.1]]), 'b1': array([[0.],\n",
            "       [0.]]), 'W2': array([[0.1],\n",
            "       [0.1]]), 'b2': array([[0.]])}\n",
            "Final output:\n",
            "[[0.32]]\n"
          ]
        }
      ],
      "source": [
        "import numpy as np\n",
        "import pandas as pd\n",
        "\n",
        "# Creating a dataset\n",
        "df = pd.DataFrame([[8, 8, 4], [7, 9, 5], [6, 10, 6], [5, 12, 7]], columns=['cgpa', 'profile_score', 'lpa'])\n",
        "\n",
        "# Initializing parameters\n",
        "def initialize_parameters(layer_dims):\n",
        "  np.random.seed(3)\n",
        "  print(\"Layer Dimensions:\", layer_dims)\n",
        "  parameters = {}\n",
        "  L = len(layer_dims)\n",
        "  print(\"Total No. of layers in NN\",L)\n",
        "  for i in range(1, L):\n",
        "    parameters['W' + str(i)] = np.ones((layer_dims[i-1], layer_dims[i])) * 0.1\n",
        "    parameters['b' + str(i)] = np.zeros((layer_dims[i], 1))\n",
        "  return parameters\n",
        "\n",
        "layer_dims = [2, 2, 1] # 2 inputs, 2 hidden neurons, 1 output neuro\n",
        "parameters = initialize_parameters(layer_dims)\n",
        "#print(parameters)\n",
        "\n",
        "# Forward propagation\n",
        "def linear_forward(A_prev, W, b):\n",
        "  Z = np.dot(W.T, A_prev) + b\n",
        "  #print(Z)\n",
        "  return Z\n",
        "\n",
        "def relu(Z):\n",
        " return np.maximum(0, Z)\n",
        "\n",
        "\n",
        "def L_layer_forward(X, parameters):\n",
        " A = X\n",
        " caches = []\n",
        " print(\"\\n\", parameters)\n",
        " L = len(parameters) // 2\n",
        " for i in range(1, L):\n",
        "  A_prev = A\n",
        "  W = parameters['W' + str(i)]\n",
        "  b = parameters['b' + str(i)]\n",
        "  Z = linear_forward(A_prev, W, b)\n",
        "  A = relu(Z)\n",
        "  cache = (A_prev, W, b, Z)\n",
        "  caches.append(cache)\n",
        "\n",
        "  # Output layer\n",
        "  W_out = parameters['W' + str(L)]\n",
        "  b_out = parameters['b' + str(L)]\n",
        "  Z_out = linear_forward(A, W_out, b_out)\n",
        "  AL = Z_out\n",
        "  return AL, caches\n",
        "\n",
        "# Example execution\n",
        "X = df[['cgpa', 'profile_score']].values[0].reshape(2, 1)\n",
        "parameters = initialize_parameters([2, 2, 1])\n",
        "y_hat, caches = L_layer_forward(X, parameters)\n",
        "print(\"Final output:\")\n",
        "print(y_hat)"
      ]
    },
    {
      "cell_type": "code",
      "source": [
        "pip install openpyxl"
      ],
      "metadata": {
        "colab": {
          "base_uri": "https://localhost:8080/"
        },
        "id": "vjBw20jvbWDn",
        "outputId": "2ea241b4-60fb-41c5-8a62-0fbd16541889"
      },
      "execution_count": 2,
      "outputs": [
        {
          "output_type": "stream",
          "name": "stdout",
          "text": [
            "Requirement already satisfied: openpyxl in /usr/local/lib/python3.11/dist-packages (3.1.5)\n",
            "Requirement already satisfied: et-xmlfile in /usr/local/lib/python3.11/dist-packages (from openpyxl) (2.0.0)\n"
          ]
        }
      ]
    },
    {
      "cell_type": "code",
      "source": [
        "from google.colab import drive\n",
        "drive.mount('/content/drive')"
      ],
      "metadata": {
        "colab": {
          "base_uri": "https://localhost:8080/"
        },
        "id": "Cqxgtti3kirg",
        "outputId": "62f48224-6261-4169-f73d-f0fa3f8825e9"
      },
      "execution_count": 3,
      "outputs": [
        {
          "output_type": "stream",
          "name": "stdout",
          "text": [
            "Mounted at /content/drive\n"
          ]
        }
      ]
    },
    {
      "cell_type": "code",
      "source": [
        "!ls /content/drive/MyDrive/"
      ],
      "metadata": {
        "colab": {
          "base_uri": "https://localhost:8080/"
        },
        "id": "DnrMpNUJmPxQ",
        "outputId": "4de29579-51d3-4d85-efb8-e6a530602975"
      },
      "execution_count": 7,
      "outputs": [
        {
          "output_type": "stream",
          "name": "stdout",
          "text": [
            "'1st Vaccine.pdf'\n",
            "'2nd Vaccine.pdf'\n",
            "'Advanced Level of Spoken Sanskrit - Course Progress (1).pdf'\n",
            "'Advanced Level of Spoken Sanskrit - Course Progress (2).pdf'\n",
            "'Advanced Level of Spoken Sanskrit - Course Progress.pdf'\n",
            "' Algo.pdf'\n",
            " Bank.cpp\n",
            "'certificate (1).pdf'\n",
            "'Chemistry Practical Manual.pdf'\n",
            " Classroom\n",
            " ColabNotebooks\n",
            "'Compressed_Work shop practice practicals .pdf'\n",
            "'Data Structure'\n",
            "'Data Structure using c.pdf'\n",
            "'Dimensioning Methods.pdf'\n",
            "'EGE 22003 MSBTE Practical Examination CO1 (21329).pdf'\n",
            "'English practical Manual.pdf'\n",
            " Exp_01_DONE.gdoc\n",
            " Exp_02_DONE.gdoc\n",
            "'Exp_03_DONE (1).gdoc'\n",
            " Exp_03_DONE.gdoc\n",
            " Exp_04_DONE.gdoc\n",
            "'Flowchart and Algo.pdf'\n",
            "'Freehand sketch 5.pdf'\n",
            "'ICT micro project - 2021-22.pdf'\n",
            "'ICT Practical Manual (1).pdf'\n",
            "'ICT Practical Manual.pdf'\n",
            " IMG-20240927-WA0029.jpg\n",
            " IMG-20241209-WA0000.jpg\n",
            "'Isometric projections 4.pdf'\n",
            "'Isometric sheet 3.pdf'\n",
            "'Kaushal 21329 21-3-22.pdf'\n",
            "'Kaushal 21329 23-3-22.pdf'\n",
            "'Kaushal 21329 Assignment 1.pdf'\n",
            "'Kaushal 21329 Ex.1.pdf'\n",
            "'Kaushal 21329 EX no. 1.pdf'\n",
            "'Kaushal 21329 EX no. 3.pdf'\n",
            "'Kaushal 21329 Notes 11 to 17 march.pdf'\n",
            "'Kaushal 21329 pr.no.2.pdf'\n",
            "'Kaushal 21329 pr.no.4 .pdf'\n",
            "'Kaushal 21329 pr no.5.pdf'\n",
            "'Kaushal 21329 pr no.6.pdf'\n",
            "'Kaushal 21329 pr no.7.pdf'\n",
            "'Kaushal 21329 pr no.8.pdf'\n",
            "'KAUSHAL-KALAS-Participant-Certificate C.pdf'\n",
            "'KAUSHAL-KALAS-Participant-Certificate Python.pdf'\n",
            "'Maths Tutorial.pdf'\n",
            "'Missing Views.pdf'\n",
            "'Notes 5 3 22.pdf'\n",
            "'Orthographic Sheet 1.pdf'\n",
            "'Orthographic sheet 2.pdf'\n",
            "'physics micro project, kaushal kalas..pdf'\n",
            "'Physics practical manual.pdf'\n",
            "'Redraw Figure.pdf'\n",
            " screencapture-leetcode-problems-array-partition-submissions-1510734048-2025-01-17-00_51_12.png\n",
            " screencapture-leetcode-problems-average-salary-excluding-the-minimum-and-maximum-salary-submissions-1510742649-2025-01-17-00_56_47.png\n",
            " screencapture-leetcode-problems-check-if-n-and-its-double-exist-submissions-1510740052-2025-01-17-00_54_31.png\n",
            " screencapture-leetcode-problems-counting-words-with-a-given-prefix-submissions-1509967398-2025-01-17-00_44_10.png\n",
            " screencapture-leetcode-problems-count-prefix-and-suffix-pairs-i-submissions-1509968544-2025-01-17-00_43_36.png\n",
            "'screencapture-leetcode-problems-find-the-distance-value-between-two-arrays-submissions-1510740995-2025-01-17-00_55_05 (1).png'\n",
            " screencapture-leetcode-problems-find-the-distance-value-between-two-arrays-submissions-1510740995-2025-01-17-00_55_05.png\n",
            " screencapture-leetcode-problems-form-array-by-concatenating-subarrays-of-another-array-submissions-1510750156-2025-01-17-00_42_49.png\n",
            " screencapture-leetcode-problems-kth-smallest-element-in-a-sorted-matrix-submissions-1510809016-2025-01-17-00_49_15.png\n",
            " screencapture-leetcode-problems-linked-list-cycle-ii-submissions-1510744490-2025-01-17-00_58_11.png\n",
            " screencapture-leetcode-problems-longest-increasing-subsequence-submissions-1509988714-2025-01-17-00_46_23.png\n",
            " screencapture-leetcode-problems-longest-string-chain-submissions-1510739020-2025-01-17-00_53_36.png\n",
            " screencapture-leetcode-problems-make-two-arrays-equal-by-reversing-subarrays-submissions-1510741991-2025-01-17-00_55_54.png\n",
            " screencapture-leetcode-problems-maximum-gap-submissions-1510574297-2025-01-17-00_47_55.png\n",
            " screencapture-leetcode-problems-merge-sorted-array-submissions-1510569472-2025-01-17-00_47_11.png\n",
            " screencapture-leetcode-problems-most-profit-assigning-work-submissions-1510732874-2025-01-17-00_52_41.png\n",
            " screencapture-leetcode-problems-pascals-triangle-ii-submissions-1509980495-2025-01-17-19_05_09.png\n",
            " screencapture-leetcode-problems-rotate-string-submissions-1509976285-2025-01-17-00_43_15.png\n",
            " screencapture-leetcode-problems-search-a-2d-matrix-ii-submissions-1509986496-2025-01-17-00_45_10.png\n",
            " screencapture-leetcode-problems-special-array-with-x-elements-greater-than-or-equal-x-submissions-1510743450-2025-01-17-00_57_32.png\n",
            " screencapture-leetcode-problems-summary-ranges-submissions-1509986694-2025-01-17-00_41_37.png\n",
            " screencapture-leetcode-u-kaushalkalas1326-2025-01-17-00_58_33.png\n",
            "'Student_dataset (1).xlsx'\n",
            " Student_dataset.xlsx\n",
            " Unit3_Iot_12sept2024.gdoc\n",
            "'WPM micro project 2021-22 (1).pdf'\n",
            "'WPM micro project 2021-22.pdf'\n",
            "'Wpm Practical (21329).pdf'\n"
          ]
        }
      ]
    },
    {
      "cell_type": "code",
      "source": [
        "import numpy as np\n",
        "import pandas as pd\n",
        "\n",
        "df = pd.read_excel('/content/drive/MyDrive/Student_dataset.xlsx')\n",
        "print(df)\n",
        "\n",
        "X_data = df[['CGPA', '10th Score', '12th Score', 'IQ']].values\n",
        "Y_data = df[['Placement']].values\n",
        "\n",
        "def initialize_parameters(layer_dims):\n",
        "    np.random.seed(4)\n",
        "    print(\"\\nLayer Dimensions:\", layer_dims)\n",
        "    parameters = {}\n",
        "    L = len(layer_dims)\n",
        "    print(\"Total No. of layers in NN\",L)\n",
        "    for i in range(1, L):\n",
        "        parameters['W' + str(i)] = np.ones((layer_dims[i - 1], layer_dims[i])) * 0.1\n",
        "        parameters['b' + str(i)] = np.zeros((layer_dims[i], 1))\n",
        "    return parameters\n",
        "\n",
        "def linear_forward(A_prev, W, b):\n",
        "    Z = np.dot(W.T, A_prev) + b\n",
        "    return Z\n",
        "\n",
        "def relu(Z):\n",
        "    return np.maximum(0, Z)\n",
        "\n",
        "def L_layer_forward(X, parameters):\n",
        "    A = X\n",
        "    caches = []\n",
        "    L = len(parameters) // 2\n",
        "\n",
        "    for i in range(1, L):\n",
        "        A_prev = A\n",
        "        W = parameters['W' + str(i)]\n",
        "        b = parameters['b' + str(i)]\n",
        "        Z = linear_forward(A_prev, W, b)\n",
        "        A = relu(Z)\n",
        "        cache = (A_prev, W, b, Z)\n",
        "        caches.append(cache)\n",
        "\n",
        "    W_out = parameters['W' + str(L)]\n",
        "    b_out = parameters['b' + str(L)]\n",
        "    Z_out = linear_forward(A, W_out, b_out)\n",
        "    AL = Z_out\n",
        "    return AL, caches\n",
        "\n",
        "layer_dims = [4, 4, 1]\n",
        "parameters = initialize_parameters(layer_dims)\n",
        "print(parameters)\n",
        "\n",
        "X_sample = df[['CGPA', '10th Score', '12th Score', 'IQ']].values[0].reshape(4, 1)\n",
        "y_hat, caches = L_layer_forward(X_sample, parameters)\n",
        "print(\"\\nFinal output:\", y_hat)"
      ],
      "metadata": {
        "id": "7SXsb9fHlB4I",
        "colab": {
          "base_uri": "https://localhost:8080/"
        },
        "outputId": "1bf9a8a0-2f7c-48e1-bf3b-4ec8726de004"
      },
      "execution_count": 28,
      "outputs": [
        {
          "output_type": "stream",
          "name": "stdout",
          "text": [
            "   CGPA  10th Score  12th Score   IQ  Placement\n",
            "0   8.5          85          88  120          1\n",
            "1   7.2          78          74  110          0\n",
            "2   9.1          90          92  130          1\n",
            "3   6.8          70          65  105          0\n",
            "4   7.5          75          78  115          0\n",
            "5   8.0          80          81  118          1\n",
            "6   7.9          79          77  113          1\n",
            "7   8.3          83          85  125          1\n",
            "8   6.5          65          60  100          0\n",
            "9   9.0          92          95  135          1\n",
            "\n",
            "Layer Dimensions: [4, 4, 1]\n",
            "Total No. of layers in NN 3\n",
            "{'W1': array([[0.1, 0.1, 0.1, 0.1],\n",
            "       [0.1, 0.1, 0.1, 0.1],\n",
            "       [0.1, 0.1, 0.1, 0.1],\n",
            "       [0.1, 0.1, 0.1, 0.1]]), 'b1': array([[0.],\n",
            "       [0.],\n",
            "       [0.],\n",
            "       [0.]]), 'W2': array([[0.1],\n",
            "       [0.1],\n",
            "       [0.1],\n",
            "       [0.1]]), 'b2': array([[0.]])}\n",
            "\n",
            "Final output: [[12.06]]\n"
          ]
        }
      ]
    }
  ]
}