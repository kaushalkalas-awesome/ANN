{
  "nbformat": 4,
  "nbformat_minor": 0,
  "metadata": {
    "colab": {
      "provenance": [],
      "authorship_tag": "ABX9TyOBlSttBvwDTxKws2HESB4S",
      "include_colab_link": true
    },
    "kernelspec": {
      "name": "python3",
      "display_name": "Python 3"
    },
    "language_info": {
      "name": "python"
    }
  },
  "cells": [
    {
      "cell_type": "markdown",
      "metadata": {
        "id": "view-in-github",
        "colab_type": "text"
      },
      "source": [
        "<a href=\"https://colab.research.google.com/github/kaushalkalas-awesome/ANN/blob/main/Exp4.ipynb\" target=\"_parent\"><img src=\"https://colab.research.google.com/assets/colab-badge.svg\" alt=\"Open In Colab\"/></a>"
      ]
    },
    {
      "cell_type": "code",
      "execution_count": 46,
      "metadata": {
        "colab": {
          "base_uri": "https://localhost:8080/"
        },
        "id": "JGiutD5gJf8z",
        "outputId": "5d03a3cc-7d90-43b0-9774-f367a2f4a2b9"
      },
      "outputs": [
        {
          "output_type": "stream",
          "name": "stdout",
          "text": [
            "Capital Letters:  [ 7 15 11  8  7 19 11 11  4  8  3  2 12  6  2  1 12 12 17 10]\n",
            "Word Presence:  [1 1 1 1 0 1 1 0 1 0 1 0 1 1 0 0 0 0 0 0]\n",
            "Email Length:  [48 78 57 43 64 53 89 48 65 41 59 67 86 46 83 47 86 74 53 56]\n",
            "Output Spam(1)/(0):  [0 1 1 0 1 1 1 0 1 0 1 1 1 0 1 0 1 1 1 1]\n",
            "\n",
            "Final Weights:  -0.09122001839999154 -0.478477715646019 0.0867110760894127\n",
            "Final Bias:  -1.485931978822137\n",
            "\n",
            "Enter your email content: CONGRATULATIONS, You have won a free gift. Login to Claim\n",
            "\n",
            "Your email contains 18 capital letters.\n",
            "Presence of spam words ('free', 'win'): 1\n",
            "Email length: 57 characters\n",
            "\n",
            "Your email is spam.\n"
          ]
        }
      ],
      "source": [
        "#Email Spam Detection\n",
        "import numpy as np\n",
        "\n",
        "def step_activation(x):\n",
        "    if x>=0:\n",
        "        return 1\n",
        "    else:\n",
        "        return 0\n",
        "\n",
        "np.random.seed(42)\n",
        "dataset = np.column_stack(( np.random.randint(1, 20, 20), np.random.randint(0, 2, 20), np.random.randint(40, 90, 20)))\n",
        "result = np.where(((dataset[:, 0] >= 10) & (dataset[:, 1] == 1)) | (dataset[:, 2] >= 50), 1, 0)\n",
        "\n",
        "capital_letters_count = dataset[:, 0]\n",
        "print(\"Capital Letters: \", capital_letters_count)\n",
        "\n",
        "word_presence = dataset[:, 1]\n",
        "print(\"Word Presence: \", word_presence)\n",
        "\n",
        "email_length = dataset[:, 2]\n",
        "print(\"Email Length: \", email_length)\n",
        "\n",
        "print(\"Output Spam(1)/(0): \", result)\n",
        "\n",
        "w1,w2,w3 = np.random.rand(3)\n",
        "b = np.random.rand()\n",
        "learning_rate = 0.001\n",
        "\n",
        "for i in range(1000):\n",
        "  for j in range(len(capital_letters_count)):\n",
        "    linear_output = w1 * capital_letters_count[j] + w2 * word_presence[j] + w3 * email_length[j] + b\n",
        "    predict = step_activation(linear_output)\n",
        "    error = result[j] - predict\n",
        "\n",
        "    w1 += learning_rate * error * capital_letters_count[j]\n",
        "    w2 += learning_rate * error * word_presence[j]\n",
        "    w3 += learning_rate * error * email_length[j]\n",
        "    b += learning_rate * error\n",
        "\n",
        "print(\"\\nFinal Weights: \", w1, w2, w3)\n",
        "print(\"Final Bias: \", b)\n",
        "\n",
        "email_content = input(\"\\nEnter your email content: \")\n",
        "\n",
        "spam_keywords = ['free', 'win']\n",
        "\n",
        "cap_letters = sum(1 for c in email_content if c.isupper())\n",
        "spam_words_present = 1 if any(word in email_content.lower() for word in spam_keywords) else 0\n",
        "email_len = len(email_content)\n",
        "\n",
        "linear_output = w1 * cap_letters + w2 * spam_words_present + w3 * email_len + b\n",
        "prediction = step_activation(linear_output)\n",
        "\n",
        "print(\"\\nYour email contains\", cap_letters, \"capital letters.\")\n",
        "print(\"Presence of spam words ('free', 'win'):\", spam_words_present)\n",
        "print(\"Email length:\", email_len, \"characters\")\n",
        "\n",
        "if prediction == 1:\n",
        "    print(\"\\nYour email is spam.\")\n",
        "else:\n",
        "    print(\"\\nYour email is not spam.\")"
      ]
    },
    {
      "cell_type": "code",
      "source": [
        "# Loan Approval Prediction\n",
        "import numpy as np\n",
        "\n",
        "def step_activation(x):\n",
        "    return 1 if x >= 0 else 0\n",
        "\n",
        "np.random.seed(42)\n",
        "dataset = np.column_stack((np.random.randint(300, 901, 20), np.random.randint(20000, 150001, 20), np.random.randint(0, 2, 20)))\n",
        "result = np.where(((dataset[:, 0] >= 650) & (dataset[:, 1] >= 50000) & (dataset[:, 2] == 0)), 1, 0)\n",
        "\n",
        "credit_score = dataset[:, 0]\n",
        "print(\"Credit Score:\", credit_score)\n",
        "\n",
        "annual_income = dataset[:, 1]\n",
        "print(\"Annual Income:\", annual_income)\n",
        "\n",
        "past_defaults = dataset[:, 2]\n",
        "print(\"Loan Defaults:\", past_defaults)\n",
        "\n",
        "print(\"Output Loan Approval(1)/(0):\", result)\n",
        "\n",
        "credit_score_norm = (credit_score - np.mean(credit_score)) / np.std(credit_score)\n",
        "annual_income_norm = (annual_income - np.mean(annual_income)) / np.std(annual_income)\n",
        "\n",
        "w1, w2, w3 = np.random.rand(3)\n",
        "b = np.random.rand()\n",
        "learning_rate = 0.001\n",
        "\n",
        "for i in range(1000):\n",
        "    for j in range(len(credit_score)):\n",
        "        linear_output = w1 * credit_score_norm[j] + w2 * annual_income_norm[j] + w3 * past_defaults[j] + b\n",
        "        predict = step_activation(linear_output)\n",
        "        error = result[j] - predict\n",
        "\n",
        "        w1 += learning_rate * error * credit_score_norm[j]\n",
        "        w2 += learning_rate * error * annual_income_norm[j]\n",
        "        w3 += learning_rate * error * past_defaults[j]\n",
        "        b += learning_rate * error\n",
        "\n",
        "print(\"\\nFinal Weights:\", w1, w2,w3)\n",
        "print(\"Final Bias:\", b)\n",
        "\n",
        "print(\"\\nEnter New Applicant Details:\")\n",
        "cs = int(input(\"Enter Credit Score (300-900): \"))\n",
        "income = int(input(\"Enter Annual Income in ₹: \"))\n",
        "defaults = int(input(\"Has past defaulted loan? (0 = No, 1 = Yes): \"))\n",
        "\n",
        "cs_norm = (cs - np.mean(credit_score)) / np.std(credit_score)\n",
        "income_norm = (income - np.mean(annual_income)) / np.std(annual_income)\n",
        "\n",
        "linear_output = w1 * cs_norm + w2 * income_norm + w3 * defaults + b\n",
        "prediction = step_activation(linear_output)\n",
        "\n",
        "print(\"\\nApplicant Details:\")\n",
        "print(\"Credit Score:\", cs)\n",
        "print(\"Annual Income: ₹\", income)\n",
        "print(\"Past Loan Defaults (0=No, 1=Yes):\", defaults)\n",
        "\n",
        "if prediction == 1:\n",
        "    print(\"\\nLoan Approved.\")\n",
        "else:\n",
        "    print(\"\\nLoan Denied.\")"
      ],
      "metadata": {
        "colab": {
          "base_uri": "https://localhost:8080/"
        },
        "id": "OUE2jNrqKs5h",
        "outputId": "a1aef419-1e83-4ae5-df63-b5d080e00568"
      },
      "execution_count": 47,
      "outputs": [
        {
          "output_type": "stream",
          "name": "stdout",
          "text": [
            "Credit Score: [402 735 570 406 371 320 421 766 514 630 758 387 672 399 430 608 643 791\n",
            " 713 685]\n",
            "Annual Income: [ 25311 123355 124724 103104  73707 105305  48693  91932 147723 113016\n",
            " 126970  45658 104478 142537  38431  22747 143855  79150  85725 149981]\n",
            "Loan Defaults: [0 1 0 1 0 1 1 0 0 0 0 0 0 0 0 1 1 0 1 1]\n",
            "Output Loan Approval(1)/(0): [0 0 0 0 0 0 0 1 0 0 1 0 1 0 0 0 0 1 0 0]\n",
            "\n",
            "Final Weights: 0.38689530874346345 -0.10095956287691561 -0.3663278859936165\n",
            "Final Bias: -0.1297669734878438\n",
            "\n",
            "Enter New Applicant Details:\n",
            "Enter Credit Score (300-900): 700\n",
            "Enter Annual Income in ₹: 90000\n",
            "Has past defaulted loan? (0 = No, 1 = Yes): 0\n",
            "\n",
            "Applicant Details:\n",
            "Credit Score: 700\n",
            "Annual Income: ₹ 90000\n",
            "Past Loan Defaults (0=No, 1=Yes): 0\n",
            "\n",
            "Loan Approved.\n"
          ]
        }
      ]
    }
  ]
}