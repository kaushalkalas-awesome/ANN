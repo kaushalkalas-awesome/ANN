{
  "nbformat": 4,
  "nbformat_minor": 0,
  "metadata": {
    "colab": {
      "provenance": [],
      "authorship_tag": "ABX9TyOTMV+wTCM1wMFvqPCNzWYv",
      "include_colab_link": true
    },
    "kernelspec": {
      "name": "python3",
      "display_name": "Python 3"
    },
    "language_info": {
      "name": "python"
    }
  },
  "cells": [
    {
      "cell_type": "markdown",
      "metadata": {
        "id": "view-in-github",
        "colab_type": "text"
      },
      "source": [
        "<a href=\"https://colab.research.google.com/github/kaushalkalas-awesome/ANN/blob/main/Exp2.ipynb\" target=\"_parent\"><img src=\"https://colab.research.google.com/assets/colab-badge.svg\" alt=\"Open In Colab\"/></a>"
      ]
    },
    {
      "cell_type": "code",
      "execution_count": 87,
      "metadata": {
        "colab": {
          "base_uri": "https://localhost:8080/"
        },
        "id": "K4D8fHz_-3SB",
        "outputId": "b82a1cf3-d0a1-48b5-b9c9-4d92e41867ba"
      },
      "outputs": [
        {
          "output_type": "stream",
          "name": "stdout",
          "text": [
            "Iteration 1: Weight = 8.70800, Bias = 1.45400, Cost = 5443.70000\n",
            "Iteration 100: Weight = 8.77917, Bias = 17.88011, Cost = 214.52341\n",
            "Iteration 200: Weight = 7.24368, Bias = 28.56991, Cost = 95.42817\n",
            "Iteration 300: Weight = 6.23564, Bias = 35.58772, Cost = 44.09962\n",
            "Iteration 400: Weight = 5.57386, Bias = 40.19489, Cost = 21.97766\n",
            "Iteration 500: Weight = 5.13941, Bias = 43.21948, Cost = 12.44337\n",
            "Iteration 600: Weight = 4.85419, Bias = 45.20511, Cost = 8.33422\n",
            "Iteration 700: Weight = 4.66695, Bias = 46.50867, Cost = 6.56322\n",
            "Iteration 800: Weight = 4.54402, Bias = 47.36445, Cost = 5.79995\n",
            "Iteration 900: Weight = 4.46332, Bias = 47.92627, Cost = 5.47098\n",
            "Iteration 1000: Weight = 4.41034, Bias = 48.29510, Cost = 5.32921\n",
            "\n",
            "Final Weight: 4.41034 and Bias: 48.29510\n",
            "Predicted marks for a 10.7 is: 95.48577\n"
          ]
        }
      ],
      "source": [
        "#Student Performance Prediction\n",
        "import numpy as np\n",
        "\n",
        "hours = np.array([1, 2, 3, 4, 5, 6, 7, 8, 9, 10])\n",
        "marks = np.array([50, 55, 65, 70, 72, 75, 78, 85, 87, 90])\n",
        "\n",
        "w = 0\n",
        "b = 0\n",
        "\n",
        "learning_rate = 0.010\n",
        "iterations = 1000\n",
        "\n",
        "for i in range(1,iterations+1):\n",
        "  marks_predict = w * hours + b\n",
        "  error = marks_predict - marks\n",
        "\n",
        "  dw = (2 / len(hours)) * np.sum(error * hours)\n",
        "  db = (2 / len(hours)) * np.sum(error)\n",
        "\n",
        "  w = w - learning_rate * dw\n",
        "  b = b - learning_rate * db\n",
        "\n",
        "  MSE = np.mean(np.square(error))\n",
        "\n",
        "  if i%100==0 or i==1:\n",
        "    print(f\"Iteration {i}: Weight = {w:.5f}, Bias = {b:.5f}, Cost = {MSE:.5f}\")\n",
        "\n",
        "print(f\"\\nFinal Weight: {w:.5f} and Bias: {b:.5f}\")\n",
        "\n",
        "new_hour = 10.7\n",
        "predicted_mark = (w * new_hour) + b\n",
        "print(f\"Predicted marks for a {new_hour} is: {predicted_mark:.5f}\")\n"
      ]
    },
    {
      "cell_type": "code",
      "source": [
        "import numpy as np\n",
        "\n",
        "altitude = np.array([0.5, 1.0, 1.5, 2.0, 2.5, 3.0, 3.5, 4.0, 4.5, 5.0])\n",
        "temperature = np.array([28, 26, 23, 20, 17, 14, 11, 8, 5, 2])\n",
        "\n",
        "w = 0\n",
        "b = 0\n",
        "\n",
        "learning_rate = 0.010\n",
        "iterations = 1000\n",
        "\n",
        "for i in range(1, iterations + 1):\n",
        "    temp_predict = w * altitude + b\n",
        "    error = temp_predict - temperature\n",
        "\n",
        "    dw = (2 / len(altitude)) * np.sum(error * altitude)\n",
        "    db = (2 / len(altitude)) * np.sum(error)\n",
        "\n",
        "    w = w - learning_rate * dw\n",
        "    b = b - learning_rate * db\n",
        "\n",
        "    MSE = np.mean(np.square(error))\n",
        "\n",
        "    if i % 100 == 0 or i == 1:\n",
        "        print(f\"Iteration {i}: Weight = {w:.5f}, Bias = {b:.5f}, Cost = {MSE:.5f}\")\n",
        "\n",
        "print(f\"\\nFinal Weight: {w:.5f} and Bias: {b:.5f}\")\n",
        "\n",
        "new_altitude = 3.45\n",
        "predicted_temp = (w * new_altitude) + b\n",
        "print(f\"Predicted temperature at {new_altitude}km: {predicted_temp:.5f}°C\")\n"
      ],
      "metadata": {
        "colab": {
          "base_uri": "https://localhost:8080/"
        },
        "id": "1pJJdzNrR6RZ",
        "outputId": "02d6becc-3ac6-437b-db6b-3233d60f52a8"
      },
      "execution_count": null,
      "outputs": [
        {
          "output_type": "stream",
          "name": "stdout",
          "text": [
            "Iteration 1: Weight = 0.60400, Bias = 0.30800, Cost = 308.80000\n",
            "Iteration 100: Weight = 0.13496, Bias = 10.94289, Cost = 92.38117\n",
            "Iteration 200: Weight = -1.83702, Bias = 17.70297, Cost = 41.84661\n",
            "Iteration 300: Weight = -3.16366, Bias = 22.25080, Cost = 18.97518\n",
            "Iteration 400: Weight = -4.05616, Bias = 25.31035, Cost = 8.62380\n",
            "Iteration 500: Weight = -4.65659, Bias = 27.36865, Cost = 3.93888\n",
            "Iteration 600: Weight = -5.06052, Bias = 28.75337, Cost = 1.81853\n",
            "Iteration 700: Weight = -5.33227, Bias = 29.68493, Cost = 0.85888\n",
            "Iteration 800: Weight = -5.51508, Bias = 30.31164, Cost = 0.42455\n",
            "Iteration 900: Weight = -5.63807, Bias = 30.73326, Cost = 0.22798\n",
            "Iteration 1000: Weight = -5.72081, Bias = 31.01690, Cost = 0.13901\n",
            "\n",
            "Final Weight: -5.72081 and Bias: 31.01690\n",
            "Predicted temperature at 3.45km: 11.28009°C\n"
          ]
        }
      ]
    },
    {
      "cell_type": "code",
      "source": [
        "import numpy as np\n",
        "\n",
        "house_size = np.array([1, 2.5, 3.5, 4, 6, 7.5, 8.5, 9.5, 11, 14])\n",
        "house_price = np.array([5, 6, 9, 10, 12, 15, 17, 20, 25, 30])\n",
        "\n",
        "w = 0\n",
        "b = 0\n",
        "\n",
        "learning_rate = 0.010\n",
        "iterations = 1000\n",
        "\n",
        "for i in range(1, iterations + 1):\n",
        "    price_predict = w * house_size + b\n",
        "    error = price_predict - house_price\n",
        "\n",
        "    dw = (2 / len(house_size)) * np.sum(error * house_size)\n",
        "    db = (2 / len(house_size)) * np.sum(error)\n",
        "\n",
        "    w = w - learning_rate * dw\n",
        "    b = b - learning_rate * db\n",
        "\n",
        "    MSE = np.mean(np.square(error))\n",
        "\n",
        "    if i % 100 == 0 or i == 1:\n",
        "        print(f\"Iteration {i}: Weight = {w:.5f}, Bias = {b:.5f}, Cost = {MSE:.5f}\")\n",
        "\n",
        "print(f\"\\nFinal Weight: {w:.5f} and Bias: {b:.5f}\")\n",
        "\n",
        "new_size = 15.2\n",
        "predicted_price = (w * new_size) + b\n",
        "print(f\"Predicted house price for {new_size} sq.feet: ₹{predicted_price:.5f} Thousand\")\n"
      ],
      "metadata": {
        "colab": {
          "base_uri": "https://localhost:8080/"
        },
        "id": "IxC70yMLVX_S",
        "outputId": "dc4666f1-ecb4-407e-e073-2922d801ab30"
      },
      "execution_count": null,
      "outputs": [
        {
          "output_type": "stream",
          "name": "stdout",
          "text": [
            "Iteration 1: Weight = 2.61100, Bias = 0.29800, Cost = 282.50000\n",
            "Iteration 100: Weight = 2.06668, Bias = 0.75153, Cost = 1.39505\n",
            "Iteration 200: Weight = 2.03166, Bias = 1.06529, Cost = 1.29260\n",
            "Iteration 300: Weight = 2.01031, Bias = 1.25665, Cost = 1.25449\n",
            "Iteration 400: Weight = 1.99728, Bias = 1.37336, Cost = 1.24032\n",
            "Iteration 500: Weight = 1.98934, Bias = 1.44454, Cost = 1.23504\n",
            "Iteration 600: Weight = 1.98449, Bias = 1.48795, Cost = 1.23308\n",
            "Iteration 700: Weight = 1.98154, Bias = 1.51442, Cost = 1.23235\n",
            "Iteration 800: Weight = 1.97973, Bias = 1.53057, Cost = 1.23208\n",
            "Iteration 900: Weight = 1.97864, Bias = 1.54042, Cost = 1.23198\n",
            "Iteration 1000: Weight = 1.97796, Bias = 1.54642, Cost = 1.23194\n",
            "\n",
            "Final Weight: 1.97796 and Bias: 1.54642\n",
            "Predicted house price for 15.2 sq.feet: ₹31.61149 Thousand\n"
          ]
        }
      ]
    }
  ]
}